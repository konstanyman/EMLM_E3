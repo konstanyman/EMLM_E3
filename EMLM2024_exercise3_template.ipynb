{
 "cells": [
  {
   "cell_type": "markdown",
   "metadata": {},
   "source": [
    "# Exercise 3 | TKO_7092 Evaluation of Machine Learning Methods 2024\n",
    "## deadline: 14.2.2024 - 23:59\n",
    "\n",
    "Regarding any questions about this exercise, please contact course assistant Jonne Pohjankukka (jjepoh@utu.fi)\n",
    "\n",
    "********************************************\n",
    "\n",
    "Student name: Konsta Nyman\n",
    "\n",
    "Student number: 523834\n",
    "\n",
    "Student email: kokany@utu.fi\n",
    "\n",
    "********************************************"
   ]
  },
  {
   "cell_type": "markdown",
   "metadata": {},
   "source": [
    "## Water permeability prediction in forestry <br>\n",
    "\n",
    "In this task, the client wants you to estimate the spatial prediction performance of K-nearest neighbor regression model with K=15 (15NN), using spatial leave-one-out cross-validation (i.e. SKCV, with number of folds == number of data points). The client wants you to use the C-index as the performance measure.  \n",
    "\n",
    "In other words, the client wants you to answer the question: \"What happens to the prediction performance of water permeability using 15-nearest neighbor regression model, when the geographical distance between known data and unknown data increases?\".\n",
    "\n",
    "In this task, you have three data files available (with 1691 data points): \n",
    "\n",
    "- input.csv, contains the 75 predictor features. \n",
    "- output.csv, contains the water permebility values. \n",
    "- coordinates.csv, contains the corresponding geographical coordinate locations of the data points. The unit of the coordinates is metre, and you can use Euclidean distance to calculate distances between the coordinate points. \n",
    "\n",
    "Implement the following tasks to complete this exercise:\n",
    "\n",
    "********************************************\n",
    "\n",
    "#### 1. Z-score standardize the predictor features (input.csv). \n",
    "\n",
    "#### 2. Perform spatial leave-one-out cross-validation with 15NN model for the provided data set (refer to the lectures 3.1.3 and 3.1.4 for help). Estimate the water permeability prediction performance (using 15NN model and C-index) with the following distance parameter values: d = 0, 10, 20, ..., 250 (that is, 10 meter intervals from 0m to 250m). \n",
    "\n",
    "#### 3. When you have calculated the C-index performance measure for each value of d, visualize the results with the C-index (y-axis) as a function of d (x-axis).\n",
    "\n",
    "********************************************\n",
    "\n",
    "Your .ipynb-file must include the following: \n",
    "\n",
    "- Your own implementation of the spatial leave-one-out cross-validation for the current task. You can use third-party libraries (e.g. Scikit-learn) if you want for implementing e.g. the 15-nearest neighbor. Also, try to follow good programming practices and add comments to relevant parts of your code explaining what you are doing and why.\n",
    "\n",
    "\n",
    "- Plot of the graph C-index vs. distance parameter value. \n",
    "\n",
    "\n",
    "<br><br><br>\n",
    "-- START IMPLEMENTING YOUR EXERCISE AFTER THIS LINE --\n",
    "<br><br><br>"
   ]
  },
  {
   "cell_type": "markdown",
   "metadata": {},
   "source": [
    "### Import necessary libraries"
   ]
  },
  {
   "cell_type": "code",
   "execution_count": 7,
   "metadata": {},
   "outputs": [],
   "source": [
    "# imports\n",
    "import numpy as np\n",
    "import pandas as pd\n",
    "from sklearn.preprocessing import StandardScaler\n",
    "from sklearn.model_selection import LeaveOneOut\n",
    "from sklearn.neighbors import KNeighborsRegressor\n",
    "import matplotlib.pyplot as plt"
   ]
  },
  {
   "cell_type": "markdown",
   "metadata": {},
   "source": [
    "### Read in the datasets"
   ]
  },
  {
   "cell_type": "code",
   "execution_count": 2,
   "metadata": {},
   "outputs": [
    {
     "name": "stdout",
     "output_type": "stream",
     "text": [
      "Input dataframe dimensions: (1690, 75)\n",
      "Output dataframe dimensions: (1690, 1)\n",
      "Coordinates dataframe dimensions: (1690, 2)\n"
     ]
    }
   ],
   "source": [
    "# read files\n",
    "input_df = pd.read_csv('input.csv')\n",
    "output_df = pd.read_csv('output.csv')\n",
    "coordinates_df = pd.read_csv('coordinates.csv')\n",
    "\n",
    "# print dimensions\n",
    "print(f'Input dataframe dimensions: {input_df.shape}')\n",
    "print(f'Output dataframe dimensions: {output_df.shape}')\n",
    "print(f'Coordinates dataframe dimensions: {coordinates_df.shape}')"
   ]
  },
  {
   "cell_type": "markdown",
   "metadata": {},
   "source": [
    "### Standardization of the predictor features (input.csv)"
   ]
  },
  {
   "cell_type": "code",
   "execution_count": 3,
   "metadata": {},
   "outputs": [],
   "source": [
    "# z-score stardardization over the columns\n",
    "scaler = StandardScaler() #create a scaler\n",
    "input_df = pd.DataFrame(scaler.fit_transform(input_df)) #fit and transform"
   ]
  },
  {
   "cell_type": "markdown",
   "metadata": {},
   "source": [
    "### Functions and analysis code"
   ]
  },
  {
   "cell_type": "code",
   "execution_count": 4,
   "metadata": {},
   "outputs": [],
   "source": [
    "### Function to append unique values to the list ###\n",
    "# lst: list to be appended to\n",
    "# value: value to be appended to the list\n",
    "def append_unique(list, value):\n",
    "    if value not in list:\n",
    "        list.append(value)\n",
    "\n",
    "\n",
    "### Function for calculating C-index ###\n",
    "# y: array containing true label values.\n",
    "# yp: array containing the predicted label values.\n",
    "def cindex(y, yp):\n",
    "    n = 0\n",
    "    h_num = 0 \n",
    "    for i in range(0, len(y)):\n",
    "        t = y[i]\n",
    "        p = yp[i]\n",
    "        for j in range(i+1, len(y)):\n",
    "            nt = y[j]\n",
    "            np = yp[j]\n",
    "            if (t != nt): \n",
    "                n = n + 1\n",
    "                if (p < np and t < nt) or (p > np and t > nt): \n",
    "                    h_num += 1\n",
    "                elif (p == np):\n",
    "                    h_num += 0.5\n",
    "    return h_num/n\n",
    "\n",
    "\n",
    "### Function for calculating the pairwise spatial distances between the data points ###\n",
    "# The function will return a n-by-n matrix of Euclidean distances. For example, the\n",
    "# distance_matrix element at indices i,j will contain the spatial distance between \n",
    "# data point i and j. Note that the element value is 0 always when i==j.\n",
    "# coordinate_array: n-by-2 array containing the coordinates of the exercise data points.\n",
    "def cdists(coordinate_array):\n",
    "    number_of_observations = coordinate_array.shape[0]\n",
    "    distance_matrix = np.zeros((number_of_observations, number_of_observations))\n",
    "    for i in range(0, number_of_observations):\n",
    "        distance_matrix[i, :] = np.sqrt(np.sum((coordinate_array - coordinate_array[i])**2, axis=1))\n",
    "    return distance_matrix"
   ]
  },
  {
   "cell_type": "markdown",
   "metadata": {},
   "source": [
    "### Results for spatial leave-one-out cross-validation with 15-nearest neighbor regression model"
   ]
  },
  {
   "cell_type": "code",
   "execution_count": null,
   "metadata": {},
   "outputs": [],
   "source": [
    "# In this cell, run your script for the Spatial leave-One-Out cross-validation \n",
    "# with 15-nearest neighbor regression model and visualize the results as \n",
    "# requested in the task assignment.\n",
    "\n",
    "# create a list to store results and to convert to a data frame later\n",
    "sloo_c_index_list = []\n",
    "\n",
    "# create leave-one-out cross-validator (only for creating indexes)\n",
    "loo = LeaveOneOut()\n",
    "\n",
    "# create knn model with 15 neighbors\n",
    "knn_15 = KNeighborsRegressor(n_neighbors=15)\n",
    "\n",
    "# get the distance matrix\n",
    "distance_matrix = cdists(coordinates_df.to_numpy())\n",
    "\n",
    "\n",
    "for d in range(0, 260, 10): # distance parameter loop\n",
    "\n",
    "    # list to store predictions\n",
    "    y_predictions = []\n",
    "\n",
    "\n",
    "    # loo split\n",
    "    for train_index, test_index in loo.split(input_df):\n",
    "        X_train, X_test = input_df.iloc[train_index], input_df.iloc[test_index]\n",
    "        y_train, y_test = output_df.iloc[train_index], output_df.iloc[test_index]\n",
    "\n",
    "        # exclude all instances that are within the distance parameter\n",
    "        drop_indexes = []\n",
    "        for j in train_index:\n",
    "            if distance_matrix[test_index[0]][j] < d:\n",
    "                append_unique(drop_indexes, j)\n",
    "        X_train = X_train.drop(drop_indexes)\n",
    "        y_train = y_train.drop(drop_indexes)\n",
    "\n",
    "        # fit k-NN model\n",
    "        knn_15.fit(X_train, y_train)\n",
    "\n",
    "        # make predictions\n",
    "        preds = knn_15.predict(X_test)\n",
    "        y_predictions.append(preds) #append predicted value to list\n",
    "\n",
    "    # evaluate predictions using cindex evaluator\n",
    "    sloo_c_index = cindex(output_df.to_numpy(), y_predictions)\n",
    "\n",
    "    # create row to store results (row of upcoming data frame)\n",
    "    row = [d, sloo_c_index]\n",
    "\n",
    "    # add row to list\n",
    "    sloo_c_index_list.append(row)\n",
    "\n",
    "# create a data frame from list for plotting\n",
    "sloo_c_index_df = pd.DataFrame(sloo_c_index_list, columns=['Distance parameter', 'C-index'])\n",
    "        "
   ]
  },
  {
   "cell_type": "code",
   "execution_count": 10,
   "metadata": {},
   "outputs": [
    {
     "data": {
      "image/png": "[encoded data removed]",
      "text/plain": [
       "<Figure size 800x600 with 1 Axes>"
      ]
     },
     "metadata": {},
     "output_type": "display_data"
    }
   ],
   "source": [
    "# plotting the results\n",
    "plt.figure(figsize=(8, 6))\n",
    "plt.plot(sloo_c_index_df['Distance parameter'], sloo_c_index_df['C-index'], marker='o', linestyle='-')\n",
    "plt.title('C-index of kNN using spatial Leave-One-Out cross-validation')\n",
    "plt.xlabel('Distance parameter (m)')\n",
    "plt.ylabel('C-index')\n",
    "plt.grid()\n",
    "plt.show()"
   ]
  },
  {
   "cell_type": "markdown",
   "metadata": {},
   "source": [
    "### Interpretation of the results"
   ]
  },
  {
   "cell_type": "markdown",
   "metadata": {},
   "source": [
    "As we would expect the performance of the model decreases as the distance to the unknown data point increases. We can see a clear drop in the performance of the model after the 100 meter mark. This suggests that the predictions are quite reliable up to a 100 meters but beyond that they can't be trusted. Depending on the application we can choose a distance parameter and know the performance measure of that distance. If the performance demands are not as high we can select a sparser sampling grid."
   ]
  }
 ],
 "metadata": {
  "kernelspec": {
   "display_name": "Python 3 (ipykernel)",
   "language": "python",
   "name": "python3"
  },
  "language_info": {
   "codemirror_mode": {
    "name": "ipython",
    "version": 3
   },
   "file_extension": ".py",
   "mimetype": "text/x-python",
   "name": "python",
   "nbconvert_exporter": "python",
   "pygments_lexer": "ipython3",
   "version": "3.10.2"
  },
  "toc": {
   "base_numbering": 1,
   "nav_menu": {},
   "number_sections": false,
   "sideBar": true,
   "skip_h1_title": false,
   "title_cell": "Table of Contents",
   "title_sidebar": "Contents",
   "toc_cell": false,
   "toc_position": {},
   "toc_section_display": true,
   "toc_window_display": true
  },
  "varInspector": {
   "cols": {
    "lenName": 16,
    "lenType": 16,
    "lenVar": 40
   },
   "kernels_config": {
    "python": {
     "delete_cmd_postfix": "",
     "delete_cmd_prefix": "del ",
     "library": "var_list.py",
     "varRefreshCmd": "print(var_dic_list())"
    },
    "r": {
     "delete_cmd_postfix": ") ",
     "delete_cmd_prefix": "rm(",
     "library": "var_list.r",
     "varRefreshCmd": "cat(var_dic_list()) "
    }
   },
   "types_to_exclude": [
    "module",
    "function",
    "builtin_function_or_method",
    "instance",
    "_Feature"
   ],
   "window_display": false
  }
 },
 "nbformat": 4,
 "nbformat_minor": 2
}
